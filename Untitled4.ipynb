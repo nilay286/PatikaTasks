{
  "metadata": {
    "language_info": {
      "codemirror_mode": {
        "name": "python",
        "version": 3
      },
      "file_extension": ".py",
      "mimetype": "text/x-python",
      "name": "python",
      "nbconvert_exporter": "python",
      "pygments_lexer": "ipython3",
      "version": "3.8"
    },
    "kernelspec": {
      "name": "python",
      "display_name": "Pyolite",
      "language": "python"
    }
  },
  "nbformat_minor": 4,
  "nbformat": 4,
  "cells": [
    {
      "cell_type": "code",
      "source": "#1st question",
      "metadata": {},
      "execution_count": null,
      "outputs": []
    },
    {
      "cell_type": "code",
      "source": "import numpy as np\n\ngfg = np.array([[6, 9], [8, 5], [18, 21]])\ngfg.flatten()",
      "metadata": {
        "tags": [],
        "trusted": true
      },
      "execution_count": 3,
      "outputs": [
        {
          "execution_count": 3,
          "output_type": "execute_result",
          "data": {
            "text/plain": "array([ 6,  9,  8,  5, 18, 21])"
          },
          "metadata": {}
        }
      ]
    },
    {
      "cell_type": "code",
      "source": "#2nd question",
      "metadata": {},
      "execution_count": null,
      "outputs": []
    },
    {
      "cell_type": "code",
      "source": "first_list = [[1,2],[3,4],[5,6,7]]\n\nfirst_list.reverse()\n\nfor l in first_list:\n    l.reverse() \n    \nprint(first_list)",
      "metadata": {
        "trusted": true
      },
      "execution_count": 7,
      "outputs": [
        {
          "name": "stdout",
          "text": "[[7, 6, 5], [4, 3], [2, 1]]\n",
          "output_type": "stream"
        }
      ]
    }
  ]
}